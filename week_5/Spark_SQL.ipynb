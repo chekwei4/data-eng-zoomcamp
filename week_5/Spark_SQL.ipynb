{
 "cells": [
  {
   "cell_type": "code",
   "execution_count": 1,
   "id": "fbf6c850-d981-4c0c-876c-00182cb90029",
   "metadata": {},
   "outputs": [],
   "source": [
    "import pyspark\n",
    "from pyspark.sql import SparkSession\n",
    "\n",
    "spark = SparkSession.builder \\\n",
    "    .master(\"local[*]\") \\\n",
    "    .appName('test') \\\n",
    "    .getOrCreate()"
   ]
  },
  {
   "cell_type": "code",
   "execution_count": null,
   "id": "ba7da2bc-15c3-484e-92a1-9c799341f170",
   "metadata": {},
   "outputs": [],
   "source": [
    "spark.read.parquet()"
   ]
  },
  {
   "cell_type": "code",
   "execution_count": 2,
   "id": "e6d769c4-10e2-49c1-8959-3e7533065e8a",
   "metadata": {},
   "outputs": [
    {
     "data": {
      "text/plain": [
       "'/home/jovyan'"
      ]
     },
     "execution_count": 2,
     "metadata": {},
     "output_type": "execute_result"
    }
   ],
   "source": [
    "pwd"
   ]
  },
  {
   "cell_type": "code",
   "execution_count": 4,
   "id": "1f196913-eca7-42f6-9b9e-8eede4e3bac1",
   "metadata": {},
   "outputs": [
    {
     "name": "stdout",
     "output_type": "stream",
     "text": [
      "total 1.4G\n",
      "-rw-r--r-- 1 jovyan users  13K Aug 17  2016 taxi+_zone_lookup.csv\n",
      "-rw-r--r-- 1 jovyan users 700M Oct 29 18:53 fhvhv_tripdata_2021-02.csv\n",
      "-rw-r--r-- 1 jovyan users 718M Oct 29 18:53 fhvhv_tripdata_2021-01.csv\n",
      "drwsrwsr-x 2 jovyan users 4.0K Feb 28 05:15 \u001b[0m\u001b[01;34mwork\u001b[0m/\n",
      "drwxr-sr-x 2 jovyan users 4.0K Mar  1 06:49 \u001b[01;34mzones\u001b[0m/\n",
      "-rw-r--r-- 1 jovyan users 6.3K Mar  1 06:50 head.csv\n",
      "drwxr-sr-x 3 jovyan users 4.0K Mar  1 07:02 \u001b[01;34mfhvhv\u001b[0m/\n",
      "-rw-r--r-- 1 jovyan users  18K Mar  1 07:29 DE_zoomcamp.ipynb\n",
      "-rw-r--r-- 1 jovyan users  559 Mar  1 07:38 download_data.sh\n",
      "drwxr-sr-x 4 jovyan users 4.0K Mar  1 07:50 \u001b[01;34mdata\u001b[0m/\n",
      "-rw-r--r-- 1 jovyan users  23K Mar  1 08:20 data_preparation.ipynb\n",
      "-rw-r--r-- 1 jovyan users 2.0K Mar  1 08:21 Spark_SQL.ipynb\n"
     ]
    }
   ],
   "source": [
    "ls -lrth"
   ]
  },
  {
   "cell_type": "markdown",
   "id": "4c34ee70-0a56-400a-973c-b67476c97848",
   "metadata": {},
   "source": [
    "### Preparing df_green from all the parquet files for all years and all months"
   ]
  },
  {
   "cell_type": "code",
   "execution_count": 5,
   "id": "38a7c897-c350-41c6-aa17-5bd0389a4e37",
   "metadata": {},
   "outputs": [],
   "source": [
    "df_green = spark.read.parquet(\"data/pq/green/202*/*\")"
   ]
  },
  {
   "cell_type": "code",
   "execution_count": 7,
   "id": "aa0c29df-7d20-4104-a6f8-1f82b708a866",
   "metadata": {},
   "outputs": [
    {
     "data": {
      "text/plain": [
       "[Row(VendorID=2, lpep_pickup_datetime=datetime.datetime(2020, 1, 23, 13, 10, 15), lpep_dropoff_datetime=datetime.datetime(2020, 1, 23, 13, 38, 16), store_and_fwd_flag='N', RatecodeID=1, PULocationID=74, DOLocationID=130, passenger_count=1, trip_distance=12.77, fare_amount=36.0, extra=0.0, mta_tax=0.5, tip_amount=2.05, tolls_amount=6.12, ehail_fee=None, improvement_surcharge=0.3, total_amount=44.97, payment_type=1, trip_type=1, congestion_surcharge=0.0),\n",
       " Row(VendorID=None, lpep_pickup_datetime=datetime.datetime(2020, 1, 20, 15, 9), lpep_dropoff_datetime=datetime.datetime(2020, 1, 20, 15, 46), store_and_fwd_flag=None, RatecodeID=None, PULocationID=67, DOLocationID=39, passenger_count=None, trip_distance=8.0, fare_amount=29.9, extra=2.75, mta_tax=0.5, tip_amount=0.0, tolls_amount=0.0, ehail_fee=None, improvement_surcharge=0.3, total_amount=33.45, payment_type=None, trip_type=None, congestion_surcharge=None),\n",
       " Row(VendorID=2, lpep_pickup_datetime=datetime.datetime(2020, 1, 15, 20, 23, 41), lpep_dropoff_datetime=datetime.datetime(2020, 1, 15, 20, 31, 18), store_and_fwd_flag='N', RatecodeID=1, PULocationID=260, DOLocationID=157, passenger_count=1, trip_distance=1.27, fare_amount=7.0, extra=0.5, mta_tax=0.5, tip_amount=0.0, tolls_amount=0.0, ehail_fee=None, improvement_surcharge=0.3, total_amount=8.3, payment_type=2, trip_type=1, congestion_surcharge=0.0)]"
      ]
     },
     "execution_count": 7,
     "metadata": {},
     "output_type": "execute_result"
    }
   ],
   "source": [
    "df_green.head(3)"
   ]
  },
  {
   "cell_type": "code",
   "execution_count": 9,
   "id": "6565d82f-1eec-4d9e-a93e-3c7f446167cc",
   "metadata": {},
   "outputs": [
    {
     "name": "stdout",
     "output_type": "stream",
     "text": [
      "root\n",
      " |-- VendorID: integer (nullable = true)\n",
      " |-- lpep_pickup_datetime: timestamp (nullable = true)\n",
      " |-- lpep_dropoff_datetime: timestamp (nullable = true)\n",
      " |-- store_and_fwd_flag: string (nullable = true)\n",
      " |-- RatecodeID: integer (nullable = true)\n",
      " |-- PULocationID: integer (nullable = true)\n",
      " |-- DOLocationID: integer (nullable = true)\n",
      " |-- passenger_count: integer (nullable = true)\n",
      " |-- trip_distance: double (nullable = true)\n",
      " |-- fare_amount: double (nullable = true)\n",
      " |-- extra: double (nullable = true)\n",
      " |-- mta_tax: double (nullable = true)\n",
      " |-- tip_amount: double (nullable = true)\n",
      " |-- tolls_amount: double (nullable = true)\n",
      " |-- ehail_fee: double (nullable = true)\n",
      " |-- improvement_surcharge: double (nullable = true)\n",
      " |-- total_amount: double (nullable = true)\n",
      " |-- payment_type: integer (nullable = true)\n",
      " |-- trip_type: integer (nullable = true)\n",
      " |-- congestion_surcharge: double (nullable = true)\n",
      "\n"
     ]
    }
   ],
   "source": [
    "df_green.printSchema()"
   ]
  },
  {
   "cell_type": "markdown",
   "id": "49425f2e-4250-4c62-997d-df4d5f971849",
   "metadata": {},
   "source": [
    "### Preparing df_green from all the parquet files for all years and all months"
   ]
  },
  {
   "cell_type": "code",
   "execution_count": 19,
   "id": "9ab040b5-5bfb-4453-8943-21284f59a8b6",
   "metadata": {},
   "outputs": [],
   "source": [
    "df_yellow = spark.read.parquet(\"data/pq/yellow/202*/*\")"
   ]
  },
  {
   "cell_type": "code",
   "execution_count": 20,
   "id": "f00ca126-6734-4fa4-9f7e-3df28e9348d4",
   "metadata": {},
   "outputs": [
    {
     "data": {
      "text/plain": [
       "[Row(VendorID=2, tpep_pickup_datetime=datetime.datetime(2020, 1, 6, 9, 18, 38), tpep_dropoff_datetime=datetime.datetime(2020, 1, 6, 9, 33, 56), passenger_count=1, trip_distance=3.03, RatecodeID=1, store_and_fwd_flag='N', PULocationID=263, DOLocationID=233, payment_type=1, fare_amount=12.0, extra=0.0, mta_tax=0.5, tip_amount=1.5, tolls_amount=0.0, improvement_surcharge=0.3, total_amount=16.8, congestion_surcharge=2.5),\n",
       " Row(VendorID=2, tpep_pickup_datetime=datetime.datetime(2020, 1, 8, 18, 55, 19), tpep_dropoff_datetime=datetime.datetime(2020, 1, 8, 18, 58, 38), passenger_count=1, trip_distance=0.4, RatecodeID=1, store_and_fwd_flag='N', PULocationID=234, DOLocationID=107, payment_type=1, fare_amount=4.0, extra=1.0, mta_tax=0.5, tip_amount=1.66, tolls_amount=0.0, improvement_surcharge=0.3, total_amount=9.96, congestion_surcharge=2.5),\n",
       " Row(VendorID=2, tpep_pickup_datetime=datetime.datetime(2020, 1, 16, 12, 11, 53), tpep_dropoff_datetime=datetime.datetime(2020, 1, 16, 12, 42, 44), passenger_count=1, trip_distance=2.46, RatecodeID=1, store_and_fwd_flag='N', PULocationID=68, DOLocationID=229, payment_type=1, fare_amount=19.0, extra=0.0, mta_tax=0.5, tip_amount=4.46, tolls_amount=0.0, improvement_surcharge=0.3, total_amount=26.76, congestion_surcharge=2.5)]"
      ]
     },
     "execution_count": 20,
     "metadata": {},
     "output_type": "execute_result"
    }
   ],
   "source": [
    "df_yellow.head(3)"
   ]
  },
  {
   "cell_type": "code",
   "execution_count": 21,
   "id": "3c61eb71-1316-4b06-ad40-9e997208231f",
   "metadata": {},
   "outputs": [
    {
     "name": "stdout",
     "output_type": "stream",
     "text": [
      "root\n",
      " |-- VendorID: integer (nullable = true)\n",
      " |-- tpep_pickup_datetime: timestamp (nullable = true)\n",
      " |-- tpep_dropoff_datetime: timestamp (nullable = true)\n",
      " |-- passenger_count: integer (nullable = true)\n",
      " |-- trip_distance: double (nullable = true)\n",
      " |-- RatecodeID: integer (nullable = true)\n",
      " |-- store_and_fwd_flag: string (nullable = true)\n",
      " |-- PULocationID: integer (nullable = true)\n",
      " |-- DOLocationID: integer (nullable = true)\n",
      " |-- payment_type: integer (nullable = true)\n",
      " |-- fare_amount: double (nullable = true)\n",
      " |-- extra: double (nullable = true)\n",
      " |-- mta_tax: double (nullable = true)\n",
      " |-- tip_amount: double (nullable = true)\n",
      " |-- tolls_amount: double (nullable = true)\n",
      " |-- improvement_surcharge: double (nullable = true)\n",
      " |-- total_amount: double (nullable = true)\n",
      " |-- congestion_surcharge: double (nullable = true)\n",
      "\n"
     ]
    }
   ],
   "source": [
    "df_yellow.printSchema()"
   ]
  },
  {
   "cell_type": "markdown",
   "id": "29789f42-a232-4b74-ad82-f0fb12e5c80d",
   "metadata": {},
   "source": [
    "### Combining both df_yellow and df_green together...\n",
    "but then we need to ensure that all the columns are same before we can do that"
   ]
  },
  {
   "cell_type": "markdown",
   "id": "31703b00-0fae-4e4b-909c-dbedd1aa06e0",
   "metadata": {},
   "source": [
    "### Selecting features that both dataframes have"
   ]
  },
  {
   "cell_type": "code",
   "execution_count": 22,
   "id": "076f8742-989e-48a3-a495-c93cf9c0db72",
   "metadata": {},
   "outputs": [
    {
     "data": {
      "text/plain": [
       "['VendorID',\n",
       " 'pickup_datetime',\n",
       " 'dropoff_datetime',\n",
       " 'store_and_fwd_flag',\n",
       " 'RatecodeID',\n",
       " 'PULocationID',\n",
       " 'DOLocationID',\n",
       " 'passenger_count',\n",
       " 'trip_distance',\n",
       " 'fare_amount',\n",
       " 'extra',\n",
       " 'mta_tax',\n",
       " 'tip_amount',\n",
       " 'tolls_amount',\n",
       " 'ehail_fee',\n",
       " 'improvement_surcharge',\n",
       " 'total_amount',\n",
       " 'payment_type',\n",
       " 'trip_type',\n",
       " 'congestion_surcharge']"
      ]
     },
     "execution_count": 22,
     "metadata": {},
     "output_type": "execute_result"
    }
   ],
   "source": [
    "df_green.columns"
   ]
  },
  {
   "cell_type": "code",
   "execution_count": 23,
   "id": "34f76ab8-60c1-432c-9ab4-c1ff0fd46b08",
   "metadata": {},
   "outputs": [
    {
     "data": {
      "text/plain": [
       "['VendorID',\n",
       " 'tpep_pickup_datetime',\n",
       " 'tpep_dropoff_datetime',\n",
       " 'passenger_count',\n",
       " 'trip_distance',\n",
       " 'RatecodeID',\n",
       " 'store_and_fwd_flag',\n",
       " 'PULocationID',\n",
       " 'DOLocationID',\n",
       " 'payment_type',\n",
       " 'fare_amount',\n",
       " 'extra',\n",
       " 'mta_tax',\n",
       " 'tip_amount',\n",
       " 'tolls_amount',\n",
       " 'improvement_surcharge',\n",
       " 'total_amount',\n",
       " 'congestion_surcharge']"
      ]
     },
     "execution_count": 23,
     "metadata": {},
     "output_type": "execute_result"
    }
   ],
   "source": [
    "df_yellow.columns"
   ]
  },
  {
   "cell_type": "code",
   "execution_count": 15,
   "id": "442a6b41-5f30-49d4-bb0c-ed1b29f30176",
   "metadata": {},
   "outputs": [
    {
     "data": {
      "text/plain": [
       "{'DOLocationID',\n",
       " 'PULocationID',\n",
       " 'RatecodeID',\n",
       " 'VendorID',\n",
       " 'congestion_surcharge',\n",
       " 'ehail_fee',\n",
       " 'extra',\n",
       " 'fare_amount',\n",
       " 'improvement_surcharge',\n",
       " 'lpep_dropoff_datetime',\n",
       " 'lpep_pickup_datetime',\n",
       " 'mta_tax',\n",
       " 'passenger_count',\n",
       " 'payment_type',\n",
       " 'store_and_fwd_flag',\n",
       " 'tip_amount',\n",
       " 'tolls_amount',\n",
       " 'total_amount',\n",
       " 'trip_distance',\n",
       " 'trip_type'}"
      ]
     },
     "execution_count": 15,
     "metadata": {},
     "output_type": "execute_result"
    }
   ],
   "source": [
    "# we are missing pickup because of the way both DF spell it differently...\n",
    "\n",
    "set (df_green.columns) & set(df_yellow.columns)"
   ]
  },
  {
   "cell_type": "markdown",
   "id": "46a3e476-a31c-4b5e-8792-812da72cffbf",
   "metadata": {},
   "source": [
    "### Renaming pickup column names for both DF to standardize it"
   ]
  },
  {
   "cell_type": "code",
   "execution_count": 16,
   "id": "20dc0337-d0c9-4b5a-8727-d50fa048347f",
   "metadata": {},
   "outputs": [],
   "source": [
    "df_green = df_green \\\n",
    "    .withColumnRenamed(\"lpep_pickup_datetime\", \"pickup_datetime\") \\\n",
    "    .withColumnRenamed(\"lpep_dropoff_datetime\", \"dropoff_datetime\")"
   ]
  },
  {
   "cell_type": "code",
   "execution_count": 24,
   "id": "3ecc3618-5531-4552-8bcd-99fe6e5f6a85",
   "metadata": {},
   "outputs": [],
   "source": [
    "df_yellow = df_yellow \\\n",
    "    .withColumnRenamed(\"tpep_pickup_datetime\", \"pickup_datetime\") \\\n",
    "    .withColumnRenamed(\"tpep_dropoff_datetime\", \"dropoff_datetime\")"
   ]
  },
  {
   "cell_type": "code",
   "execution_count": 25,
   "id": "d886fcd8-feff-48e8-bdc4-2da809d7fd8f",
   "metadata": {},
   "outputs": [
    {
     "data": {
      "text/plain": [
       "{'DOLocationID',\n",
       " 'PULocationID',\n",
       " 'RatecodeID',\n",
       " 'VendorID',\n",
       " 'congestion_surcharge',\n",
       " 'dropoff_datetime',\n",
       " 'extra',\n",
       " 'fare_amount',\n",
       " 'improvement_surcharge',\n",
       " 'mta_tax',\n",
       " 'passenger_count',\n",
       " 'payment_type',\n",
       " 'pickup_datetime',\n",
       " 'store_and_fwd_flag',\n",
       " 'tip_amount',\n",
       " 'tolls_amount',\n",
       " 'total_amount',\n",
       " 'trip_distance'}"
      ]
     },
     "execution_count": 25,
     "metadata": {},
     "output_type": "execute_result"
    }
   ],
   "source": [
    "set (df_green.columns) & set(df_yellow.columns)"
   ]
  },
  {
   "cell_type": "markdown",
   "id": "ce848299-a188-48ac-88c3-ef490087fdef",
   "metadata": {},
   "source": [
    "### In order to preserver the order of the features"
   ]
  },
  {
   "cell_type": "code",
   "execution_count": 27,
   "id": "7b97e22b-8b18-48e1-bcd1-e1a1ffd2b3ae",
   "metadata": {},
   "outputs": [],
   "source": [
    "col_common = []\n",
    "\n",
    "for i in df_green.columns:\n",
    "    if i in df_yellow.columns:\n",
    "        col_common.append(i)"
   ]
  },
  {
   "cell_type": "code",
   "execution_count": 28,
   "id": "c7a31344-377e-4254-88e0-4dcb8c9ea90b",
   "metadata": {},
   "outputs": [
    {
     "data": {
      "text/plain": [
       "['VendorID',\n",
       " 'pickup_datetime',\n",
       " 'dropoff_datetime',\n",
       " 'store_and_fwd_flag',\n",
       " 'RatecodeID',\n",
       " 'PULocationID',\n",
       " 'DOLocationID',\n",
       " 'passenger_count',\n",
       " 'trip_distance',\n",
       " 'fare_amount',\n",
       " 'extra',\n",
       " 'mta_tax',\n",
       " 'tip_amount',\n",
       " 'tolls_amount',\n",
       " 'improvement_surcharge',\n",
       " 'total_amount',\n",
       " 'payment_type',\n",
       " 'congestion_surcharge']"
      ]
     },
     "execution_count": 28,
     "metadata": {},
     "output_type": "execute_result"
    }
   ],
   "source": [
    "col_common"
   ]
  },
  {
   "cell_type": "markdown",
   "id": "9a4aa897-99d8-499d-a4c6-667b653d601a",
   "metadata": {},
   "source": [
    "### Now we have the common features/columns, we can select the data from the DFs\n",
    "We will also add a new column `service_type` to specify which yellow/green the record is from"
   ]
  },
  {
   "cell_type": "code",
   "execution_count": 30,
   "id": "43a597aa-2e5b-4def-ad75-22647c8ef9fa",
   "metadata": {},
   "outputs": [],
   "source": [
    "from pyspark.sql import functions as F"
   ]
  },
  {
   "cell_type": "code",
   "execution_count": 33,
   "id": "db77babe-2eb0-4d85-88b9-1d63f5b677e8",
   "metadata": {},
   "outputs": [],
   "source": [
    "df_green_new = df_green \\\n",
    "    .select(col_common) \\\n",
    "    .withColumn(\"service_type\", F.lit(\"green\"))"
   ]
  },
  {
   "cell_type": "code",
   "execution_count": 34,
   "id": "be30adb0-7a6f-48dc-be4a-6850b418e9e7",
   "metadata": {},
   "outputs": [],
   "source": [
    "df_yellow_new = df_yellow \\\n",
    "    .select(col_common) \\\n",
    "    .withColumn(\"service_type\", F.lit(\"yellow\"))"
   ]
  },
  {
   "cell_type": "markdown",
   "id": "5d9ffe31-04ab-41c8-b329-993e77dd3e17",
   "metadata": {},
   "source": [
    "### Finally, we can combine both DF together"
   ]
  },
  {
   "cell_type": "code",
   "execution_count": 35,
   "id": "9d073c3e-e296-4cbb-ad16-943854c3d991",
   "metadata": {},
   "outputs": [],
   "source": [
    "df_trips_data = df_green_new.unionAll(df_yellow_new)"
   ]
  },
  {
   "cell_type": "code",
   "execution_count": 37,
   "id": "38f383ef-5850-4751-bf98-546acf942b4d",
   "metadata": {},
   "outputs": [
    {
     "name": "stdout",
     "output_type": "stream",
     "text": [
      "+------------+--------+\n",
      "|service_type|   count|\n",
      "+------------+--------+\n",
      "|       green| 2304517|\n",
      "|      yellow|41018964|\n",
      "+------------+--------+\n",
      "\n"
     ]
    }
   ],
   "source": [
    "df_trips_data.groupby(\"service_type\").count().show()"
   ]
  },
  {
   "cell_type": "markdown",
   "id": "62b114a2-1c14-4513-a929-adab19e042d2",
   "metadata": {},
   "source": [
    "### Trying to use SQL"
   ]
  },
  {
   "cell_type": "code",
   "execution_count": 39,
   "id": "d34e60e7-6d25-4561-acca-9507c2881480",
   "metadata": {},
   "outputs": [
    {
     "name": "stderr",
     "output_type": "stream",
     "text": [
      "/usr/local/spark/python/pyspark/sql/dataframe.py:138: FutureWarning: Deprecated in 2.0, use createOrReplaceTempView instead.\n",
      "  warnings.warn(\n"
     ]
    }
   ],
   "source": [
    "df_trips_data.registerTempTable(\"trip_table\")"
   ]
  },
  {
   "cell_type": "code",
   "execution_count": 40,
   "id": "afcc0447-5ca2-44a0-872b-2be911fd26cb",
   "metadata": {},
   "outputs": [
    {
     "name": "stdout",
     "output_type": "stream",
     "text": [
      "+------------+--------+\n",
      "|service_type|count(1)|\n",
      "+------------+--------+\n",
      "|       green| 2304517|\n",
      "|      yellow|41018964|\n",
      "+------------+--------+\n",
      "\n"
     ]
    }
   ],
   "source": [
    "spark.sql(\"\"\"\n",
    "SELECT \n",
    "    service_type,\n",
    "    COUNT (1)\n",
    "FROM\n",
    "    trip_table\n",
    "GROUP BY\n",
    "     service_type\n",
    "\"\"\").show()"
   ]
  },
  {
   "cell_type": "code",
   "execution_count": 42,
   "id": "97cef29d-9761-41d6-b072-714d6d5206e4",
   "metadata": {},
   "outputs": [],
   "source": [
    "df_result = spark.sql(\"\"\"\n",
    "SELECT \n",
    "    -- Reveneue grouping \n",
    "    PULocationID AS revenue_zone,\n",
    "    date_trunc('month', pickup_datetime) AS revenue_month, \n",
    "    service_type, \n",
    "\n",
    "    -- Revenue calculation \n",
    "    SUM(fare_amount) AS revenue_monthly_fare,\n",
    "    SUM(extra) AS revenue_monthly_extra,\n",
    "    SUM(mta_tax) AS revenue_monthly_mta_tax,\n",
    "    SUM(tip_amount) AS revenue_monthly_tip_amount,\n",
    "    SUM(tolls_amount) AS revenue_monthly_tolls_amount,\n",
    "    SUM(improvement_surcharge) AS revenue_monthly_improvement_surcharge,\n",
    "    SUM(total_amount) AS revenue_monthly_total_amount,\n",
    "    SUM(congestion_surcharge) AS revenue_monthly_congestion_surcharge,\n",
    "\n",
    "    -- Additional calculations\n",
    "    AVG(passenger_count) AS avg_montly_passenger_count,\n",
    "    AVG(trip_distance) AS avg_montly_trip_distance\n",
    "FROM\n",
    "    trip_table\n",
    "GROUP BY\n",
    "    1, 2, 3\n",
    "\"\"\")"
   ]
  },
  {
   "cell_type": "code",
   "execution_count": 43,
   "id": "e42709b5-9d7c-4841-8b49-17be77d7d66c",
   "metadata": {},
   "outputs": [],
   "source": [
    "df_result.coalesce(1).write.parquet('data/report/revenue/', mode='overwrite')"
   ]
  },
  {
   "cell_type": "markdown",
   "id": "27a80f94-b31c-43ba-8c24-67281d955872",
   "metadata": {},
   "source": [
    "# Using SQL Group By"
   ]
  },
  {
   "cell_type": "markdown",
   "id": "a0210ebd-6c8b-4683-b6f9-aa24bffda283",
   "metadata": {},
   "source": [
    "### Green"
   ]
  },
  {
   "cell_type": "code",
   "execution_count": 44,
   "id": "6805436d-2969-47b1-a2a1-c16c230484c5",
   "metadata": {},
   "outputs": [],
   "source": [
    "df_green = spark.read.parquet(\"data/pq/green/202*/*\")"
   ]
  },
  {
   "cell_type": "code",
   "execution_count": 45,
   "id": "c885b885-f76e-493b-8399-eb87c3dea169",
   "metadata": {},
   "outputs": [
    {
     "name": "stderr",
     "output_type": "stream",
     "text": [
      "/usr/local/spark/python/pyspark/sql/dataframe.py:138: FutureWarning: Deprecated in 2.0, use createOrReplaceTempView instead.\n",
      "  warnings.warn(\n"
     ]
    }
   ],
   "source": [
    "df_green.registerTempTable('green_table')"
   ]
  },
  {
   "cell_type": "code",
   "execution_count": 48,
   "id": "a27daf5b-9359-4d85-9947-dc46d20a3309",
   "metadata": {},
   "outputs": [],
   "source": [
    "df_green_revenue = spark.sql(\"\"\"\n",
    "SELECT \n",
    "    date_trunc('hour', lpep_pickup_datetime) AS hour, \n",
    "    PULocationID AS zone,\n",
    "\n",
    "    SUM(total_amount) AS amount,\n",
    "    COUNT(1) AS number_records\n",
    "FROM\n",
    "    green_table\n",
    "WHERE\n",
    "    lpep_pickup_datetime >= '2020-01-01 00:00:00'\n",
    "GROUP BY\n",
    "    1, 2\n",
    "ORDER BY\n",
    "    1,2\n",
    "\"\"\")"
   ]
  },
  {
   "cell_type": "code",
   "execution_count": 49,
   "id": "19815234-2370-4181-850c-6560547452da",
   "metadata": {},
   "outputs": [
    {
     "name": "stdout",
     "output_type": "stream",
     "text": [
      "+-------------------+----+------------------+--------------+\n",
      "|               hour|zone|            amount|number_records|\n",
      "+-------------------+----+------------------+--------------+\n",
      "|2020-01-01 00:00:00|   7| 769.7299999999996|            45|\n",
      "|2020-01-01 00:00:00|  17|195.03000000000003|             9|\n",
      "|2020-01-01 00:00:00|  18|               7.8|             1|\n",
      "|2020-01-01 00:00:00|  22|              15.8|             1|\n",
      "|2020-01-01 00:00:00|  24|              87.6|             3|\n",
      "|2020-01-01 00:00:00|  25| 531.0000000000002|            26|\n",
      "|2020-01-01 00:00:00|  29|              61.3|             1|\n",
      "|2020-01-01 00:00:00|  32| 68.94999999999999|             2|\n",
      "|2020-01-01 00:00:00|  33|317.27000000000004|            11|\n",
      "|2020-01-01 00:00:00|  35|            129.96|             5|\n",
      "|2020-01-01 00:00:00|  36|295.34000000000003|            11|\n",
      "|2020-01-01 00:00:00|  37|            175.67|             6|\n",
      "|2020-01-01 00:00:00|  38| 98.78999999999999|             2|\n",
      "|2020-01-01 00:00:00|  40|168.97999999999996|             8|\n",
      "|2020-01-01 00:00:00|  41|1363.9599999999987|            84|\n",
      "|2020-01-01 00:00:00|  42| 799.7599999999994|            52|\n",
      "|2020-01-01 00:00:00|  43|            107.52|             6|\n",
      "|2020-01-01 00:00:00|  47|              13.3|             1|\n",
      "|2020-01-01 00:00:00|  49|266.76000000000005|            14|\n",
      "|2020-01-01 00:00:00|  51|              17.8|             2|\n",
      "+-------------------+----+------------------+--------------+\n",
      "only showing top 20 rows\n",
      "\n"
     ]
    }
   ],
   "source": [
    "df_green_revenue.show()"
   ]
  },
  {
   "cell_type": "code",
   "execution_count": 56,
   "id": "3cb2feaa-71fc-406d-b9c8-ad6145429826",
   "metadata": {},
   "outputs": [],
   "source": [
    "df_green_revenue \\\n",
    "    .repartition(20) \\\n",
    "    .write.parquet(\"data/report/revenue/green\", mode=\"overwrite\")"
   ]
  },
  {
   "cell_type": "markdown",
   "id": "0f57e79a-1cb7-41cf-8161-ab9cb9d2e8b1",
   "metadata": {},
   "source": [
    "### Yellow"
   ]
  },
  {
   "cell_type": "code",
   "execution_count": 51,
   "id": "7ee8ec82-eb1f-4e12-99e6-dc5c41f5b2c2",
   "metadata": {},
   "outputs": [],
   "source": [
    "df_yellow = spark.read.parquet(\"data/pq/yellow/202*/*\")"
   ]
  },
  {
   "cell_type": "code",
   "execution_count": 52,
   "id": "c47750b9-7c05-4fd8-80f4-b4457386cecb",
   "metadata": {},
   "outputs": [
    {
     "name": "stderr",
     "output_type": "stream",
     "text": [
      "/usr/local/spark/python/pyspark/sql/dataframe.py:138: FutureWarning: Deprecated in 2.0, use createOrReplaceTempView instead.\n",
      "  warnings.warn(\n"
     ]
    }
   ],
   "source": [
    "df_yellow.registerTempTable('yellow_table')"
   ]
  },
  {
   "cell_type": "code",
   "execution_count": 53,
   "id": "cd60b799-74af-444e-986d-d6decb2fef7b",
   "metadata": {},
   "outputs": [],
   "source": [
    "df_yellow_revenue = spark.sql(\"\"\"\n",
    "SELECT \n",
    "    date_trunc('hour', tpep_pickup_datetime) AS hour, \n",
    "    PULocationID AS zone,\n",
    "\n",
    "    SUM(total_amount) AS amount,\n",
    "    COUNT(1) AS number_records\n",
    "FROM\n",
    "    yellow_table\n",
    "WHERE\n",
    "    tpep_pickup_datetime >= '2020-01-01 00:00:00'\n",
    "GROUP BY\n",
    "    1, 2\n",
    "ORDER BY\n",
    "    1,2\n",
    "\"\"\")"
   ]
  },
  {
   "cell_type": "code",
   "execution_count": 57,
   "id": "de1cde12-dfa6-4431-abdc-b9800d41a3e9",
   "metadata": {},
   "outputs": [],
   "source": [
    "df_yellow_revenue \\\n",
    "    .repartition(20) \\\n",
    "    .write.parquet(\"data/report/revenue/yellow\", mode=\"overwrite\")"
   ]
  },
  {
   "cell_type": "markdown",
   "id": "fe3a310c-9820-41d5-9b1f-83d7b7f19ccb",
   "metadata": {},
   "source": [
    "# Using SQL Joins"
   ]
  },
  {
   "cell_type": "code",
   "execution_count": 61,
   "id": "b20bf0d1-7126-4243-86c2-9996aec44107",
   "metadata": {},
   "outputs": [],
   "source": [
    "df_green_t_revenue = df_green_revenue \\\n",
    "    .withColumnRenamed(\"amount\", \"g_amount\") \\\n",
    "    .withColumnRenamed(\"number_records\", \"g_number_records\")\n",
    "\n",
    "df_yellow_t_revenue = df_yellow_revenue \\\n",
    "    .withColumnRenamed(\"amount\", \"y_amount\") \\\n",
    "    .withColumnRenamed(\"number_records\", \"y_number_records\")"
   ]
  },
  {
   "cell_type": "code",
   "execution_count": 62,
   "id": "e6f6f672-bbd5-49d7-b317-2f054bb5f07f",
   "metadata": {},
   "outputs": [],
   "source": [
    "df_join = df_green_t_revenue.join(df_yellow_t_revenue, on=[\"hour\", \"zone\"], how=\"outer\")"
   ]
  },
  {
   "cell_type": "code",
   "execution_count": 63,
   "id": "120463cf-d812-4546-bd66-2a9d0a2d283d",
   "metadata": {},
   "outputs": [
    {
     "name": "stdout",
     "output_type": "stream",
     "text": [
      "+-------------------+----+------------------+----------------+------------------+----------------+\n",
      "|               hour|zone|          g_amount|g_number_records|          y_amount|y_number_records|\n",
      "+-------------------+----+------------------+----------------+------------------+----------------+\n",
      "|2020-01-01 00:00:00|   3|              null|            null|              25.0|               1|\n",
      "|2020-01-01 00:00:00|   4|              null|            null|1004.3000000000002|              57|\n",
      "|2020-01-01 00:00:00|   7| 769.7299999999996|              45| 455.1700000000001|              38|\n",
      "|2020-01-01 00:00:00|  12|              null|            null|             107.0|               6|\n",
      "|2020-01-01 00:00:00|  37|            175.67|               6|161.60999999999999|               7|\n",
      "|2020-01-01 00:00:00|  40|168.97999999999996|               8|             89.97|               5|\n",
      "|2020-01-01 00:00:00|  45|              null|            null| 732.4800000000002|              42|\n",
      "|2020-01-01 00:00:00|  47|              13.3|               1|               8.3|               1|\n",
      "|2020-01-01 00:00:00|  51|              17.8|               2|              31.0|               1|\n",
      "|2020-01-01 00:00:00|  62|             15.95|               1|             61.43|               1|\n",
      "|2020-01-01 00:00:00|  68|              null|            null| 7825.070000000012|             396|\n",
      "|2020-01-01 00:00:00|  73|              null|            null|              17.3|               1|\n",
      "|2020-01-01 00:00:00|  74|317.09000000000015|              24| 586.2100000000002|              47|\n",
      "|2020-01-01 00:00:00|  77| 75.99000000000001|               2|            134.24|               3|\n",
      "|2020-01-01 00:00:00|  80|364.32000000000005|              13|             371.4|              20|\n",
      "|2020-01-01 00:00:00|  83|              94.1|               7|               9.8|               1|\n",
      "|2020-01-01 00:00:00|  89|              11.3|               1|             48.16|               2|\n",
      "|2020-01-01 00:00:00|  94| 64.24000000000001|               3|              13.3|               1|\n",
      "|2020-01-01 00:00:00|  95|202.20000000000002|              15|               6.3|               1|\n",
      "|2020-01-01 00:00:00|  97|            786.18|              25|403.02000000000004|              20|\n",
      "+-------------------+----+------------------+----------------+------------------+----------------+\n",
      "only showing top 20 rows\n",
      "\n"
     ]
    }
   ],
   "source": [
    "df_join.show()"
   ]
  },
  {
   "cell_type": "code",
   "execution_count": 64,
   "id": "2ee128a6-1ec8-4ced-900d-94eb773b7200",
   "metadata": {},
   "outputs": [],
   "source": [
    "df_join.write.parquet(\"data/report/revenue/total\")"
   ]
  },
  {
   "cell_type": "code",
   "execution_count": null,
   "id": "ad0a1211-21ed-4479-9cd7-c7359a07352b",
   "metadata": {},
   "outputs": [],
   "source": []
  }
 ],
 "metadata": {
  "kernelspec": {
   "display_name": "Python 3 (ipykernel)",
   "language": "python",
   "name": "python3"
  },
  "language_info": {
   "codemirror_mode": {
    "name": "ipython",
    "version": 3
   },
   "file_extension": ".py",
   "mimetype": "text/x-python",
   "name": "python",
   "nbconvert_exporter": "python",
   "pygments_lexer": "ipython3",
   "version": "3.9.10"
  }
 },
 "nbformat": 4,
 "nbformat_minor": 5
}
