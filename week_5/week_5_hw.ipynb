{
 "cells": [
  {
   "cell_type": "code",
   "execution_count": 1,
   "id": "aa4dd772-aee8-49cb-b75b-fddf4a632afa",
   "metadata": {},
   "outputs": [],
   "source": [
    "import pyspark\n",
    "from pyspark.sql import SparkSession\n",
    "\n",
    "spark = SparkSession.builder \\\n",
    "    .master(\"local[*]\") \\\n",
    "    .appName('test') \\\n",
    "    .getOrCreate()"
   ]
  },
  {
   "cell_type": "markdown",
   "id": "598b30e0-70f0-4957-a174-3a90b845726d",
   "metadata": {},
   "source": [
    "### Question 1"
   ]
  },
  {
   "cell_type": "code",
   "execution_count": 2,
   "id": "8e90a3ca-b28f-47dd-b3eb-6f73f02b18c0",
   "metadata": {},
   "outputs": [
    {
     "name": "stdout",
     "output_type": "stream",
     "text": [
      "3.2.1\n"
     ]
    }
   ],
   "source": [
    "print(pyspark.__version__)"
   ]
  },
  {
   "cell_type": "markdown",
   "id": "38c207f4-4dc5-4830-a8a7-d90f42c1e280",
   "metadata": {},
   "source": [
    "### Question 2. HVFHW February 2021"
   ]
  },
  {
   "cell_type": "code",
   "execution_count": 4,
   "id": "1b0334f9-7e05-416c-ab39-6442e12b6ed0",
   "metadata": {},
   "outputs": [],
   "source": [
    "from pyspark.sql import types\n",
    "\n",
    "schema = types.StructType([\n",
    "    types.StructField('hvfhs_license_num',types.StringType(), True),\n",
    "    types.StructField('dispatching_base_num',types.StringType(), True),\n",
    "    types.StructField('pickup_datetime',types.TimestampType(), True),\n",
    "    types.StructField('dropoff_datetime',types.TimestampType(), True),\n",
    "    types.StructField('PULocationID',types.IntegerType(), True),\n",
    "    types.StructField('DOLocationID',types.IntegerType(), True),\n",
    "    types.StructField('SR_Flag',types.StringType(), True)\n",
    "])"
   ]
  },
  {
   "cell_type": "code",
   "execution_count": 6,
   "id": "26c0ec3b-e6d0-46ac-b6ee-ec0d818920dd",
   "metadata": {},
   "outputs": [],
   "source": [
    "df = spark.read \\\n",
    "    .option(\"header\", \"true\") \\\n",
    "    .schema(schema) \\\n",
    "    .csv('fhvhv_tripdata_2021-02.csv')"
   ]
  },
  {
   "cell_type": "code",
   "execution_count": 8,
   "id": "8fd13152-2148-4443-bb7d-2d89e4a2a503",
   "metadata": {},
   "outputs": [],
   "source": [
    "df = df.repartition(24)"
   ]
  },
  {
   "cell_type": "code",
   "execution_count": 9,
   "id": "c10346e6-520b-4846-8e67-7c0495876273",
   "metadata": {},
   "outputs": [],
   "source": [
    "df.write.parquet(\"fhvhv/2021/02/\")"
   ]
  },
  {
   "cell_type": "code",
   "execution_count": 10,
   "id": "bd67a55b-ebf7-4ea5-afdc-ce1f6aae3ffb",
   "metadata": {},
   "outputs": [
    {
     "data": {
      "text/plain": [
       "'/home/jovyan'"
      ]
     },
     "execution_count": 10,
     "metadata": {},
     "output_type": "execute_result"
    }
   ],
   "source": [
    "pwd"
   ]
  },
  {
   "cell_type": "code",
   "execution_count": 11,
   "id": "c35976c5-a46a-472a-b8ed-0aae0f778384",
   "metadata": {},
   "outputs": [
    {
     "name": "stdout",
     "output_type": "stream",
     "text": [
      "/home/jovyan/fhvhv/2021/02\n"
     ]
    }
   ],
   "source": [
    "cd /home/jovyan/fhvhv/2021/02"
   ]
  },
  {
   "cell_type": "code",
   "execution_count": 12,
   "id": "e10b0361-1eba-41cf-b1ff-ca7d12d8cd78",
   "metadata": {},
   "outputs": [
    {
     "name": "stdout",
     "output_type": "stream",
     "text": [
      "total 209M\n",
      "-rw-r--r-- 1 jovyan users 8.7M Mar  1 09:50 part-00004-9dd08e71-9433-4108-8fcc-d8bbbe9ccb7b-c000.snappy.parquet\n",
      "-rw-r--r-- 1 jovyan users 8.7M Mar  1 09:50 part-00003-9dd08e71-9433-4108-8fcc-d8bbbe9ccb7b-c000.snappy.parquet\n",
      "-rw-r--r-- 1 jovyan users 8.7M Mar  1 09:50 part-00001-9dd08e71-9433-4108-8fcc-d8bbbe9ccb7b-c000.snappy.parquet\n",
      "-rw-r--r-- 1 jovyan users 8.7M Mar  1 09:50 part-00000-9dd08e71-9433-4108-8fcc-d8bbbe9ccb7b-c000.snappy.parquet\n",
      "-rw-r--r-- 1 jovyan users 8.7M Mar  1 09:50 part-00002-9dd08e71-9433-4108-8fcc-d8bbbe9ccb7b-c000.snappy.parquet\n",
      "-rw-r--r-- 1 jovyan users 8.7M Mar  1 09:50 part-00005-9dd08e71-9433-4108-8fcc-d8bbbe9ccb7b-c000.snappy.parquet\n",
      "-rw-r--r-- 1 jovyan users 8.7M Mar  1 09:50 part-00007-9dd08e71-9433-4108-8fcc-d8bbbe9ccb7b-c000.snappy.parquet\n",
      "-rw-r--r-- 1 jovyan users 8.7M Mar  1 09:50 part-00008-9dd08e71-9433-4108-8fcc-d8bbbe9ccb7b-c000.snappy.parquet\n",
      "-rw-r--r-- 1 jovyan users 8.7M Mar  1 09:50 part-00009-9dd08e71-9433-4108-8fcc-d8bbbe9ccb7b-c000.snappy.parquet\n",
      "-rw-r--r-- 1 jovyan users 8.7M Mar  1 09:50 part-00006-9dd08e71-9433-4108-8fcc-d8bbbe9ccb7b-c000.snappy.parquet\n",
      "-rw-r--r-- 1 jovyan users 8.7M Mar  1 09:50 part-00010-9dd08e71-9433-4108-8fcc-d8bbbe9ccb7b-c000.snappy.parquet\n",
      "-rw-r--r-- 1 jovyan users 8.7M Mar  1 09:50 part-00012-9dd08e71-9433-4108-8fcc-d8bbbe9ccb7b-c000.snappy.parquet\n",
      "-rw-r--r-- 1 jovyan users 8.7M Mar  1 09:50 part-00013-9dd08e71-9433-4108-8fcc-d8bbbe9ccb7b-c000.snappy.parquet\n",
      "-rw-r--r-- 1 jovyan users 8.7M Mar  1 09:50 part-00011-9dd08e71-9433-4108-8fcc-d8bbbe9ccb7b-c000.snappy.parquet\n",
      "-rw-r--r-- 1 jovyan users 8.7M Mar  1 09:50 part-00014-9dd08e71-9433-4108-8fcc-d8bbbe9ccb7b-c000.snappy.parquet\n",
      "-rw-r--r-- 1 jovyan users 8.7M Mar  1 09:50 part-00015-9dd08e71-9433-4108-8fcc-d8bbbe9ccb7b-c000.snappy.parquet\n",
      "-rw-r--r-- 1 jovyan users 8.7M Mar  1 09:50 part-00018-9dd08e71-9433-4108-8fcc-d8bbbe9ccb7b-c000.snappy.parquet\n",
      "-rw-r--r-- 1 jovyan users 8.7M Mar  1 09:50 part-00017-9dd08e71-9433-4108-8fcc-d8bbbe9ccb7b-c000.snappy.parquet\n",
      "-rw-r--r-- 1 jovyan users 8.7M Mar  1 09:50 part-00016-9dd08e71-9433-4108-8fcc-d8bbbe9ccb7b-c000.snappy.parquet\n",
      "-rw-r--r-- 1 jovyan users 8.7M Mar  1 09:50 part-00019-9dd08e71-9433-4108-8fcc-d8bbbe9ccb7b-c000.snappy.parquet\n",
      "-rw-r--r-- 1 jovyan users 8.7M Mar  1 09:50 part-00021-9dd08e71-9433-4108-8fcc-d8bbbe9ccb7b-c000.snappy.parquet\n",
      "-rw-r--r-- 1 jovyan users 8.7M Mar  1 09:50 part-00020-9dd08e71-9433-4108-8fcc-d8bbbe9ccb7b-c000.snappy.parquet\n",
      "-rw-r--r-- 1 jovyan users 8.7M Mar  1 09:50 part-00022-9dd08e71-9433-4108-8fcc-d8bbbe9ccb7b-c000.snappy.parquet\n",
      "-rw-r--r-- 1 jovyan users 8.7M Mar  1 09:50 part-00023-9dd08e71-9433-4108-8fcc-d8bbbe9ccb7b-c000.snappy.parquet\n",
      "-rw-r--r-- 1 jovyan users    0 Mar  1 09:50 _SUCCESS\n"
     ]
    }
   ],
   "source": [
    "ls -lrth"
   ]
  },
  {
   "cell_type": "markdown",
   "id": "883045a6-cbce-4ba7-8a8d-7de2602bc95c",
   "metadata": {},
   "source": [
    "### Question 3. Count records\n",
    "How many taxi trips were there on February 15?\n",
    "\n",
    "Consider only trips that started on February 15."
   ]
  },
  {
   "cell_type": "code",
   "execution_count": 15,
   "id": "0843aa11-b95d-45e0-89b8-014d426ab0ff",
   "metadata": {},
   "outputs": [
    {
     "name": "stdout",
     "output_type": "stream",
     "text": [
      "root\n",
      " |-- hvfhs_license_num: string (nullable = true)\n",
      " |-- dispatching_base_num: string (nullable = true)\n",
      " |-- pickup_datetime: timestamp (nullable = true)\n",
      " |-- dropoff_datetime: timestamp (nullable = true)\n",
      " |-- PULocationID: integer (nullable = true)\n",
      " |-- DOLocationID: integer (nullable = true)\n",
      " |-- SR_Flag: string (nullable = true)\n",
      "\n"
     ]
    }
   ],
   "source": [
    "df.printSchema()"
   ]
  },
  {
   "cell_type": "code",
   "execution_count": 19,
   "id": "7ede30c3-51fb-4d31-abc7-fd1cec46c33e",
   "metadata": {},
   "outputs": [
    {
     "data": {
      "text/plain": [
       "[Row(pickup_datetime=datetime.datetime(2021, 2, 6, 1, 32, 18)),\n",
       " Row(pickup_datetime=datetime.datetime(2021, 2, 4, 21, 24)),\n",
       " Row(pickup_datetime=datetime.datetime(2021, 2, 4, 15, 58, 5))]"
      ]
     },
     "execution_count": 19,
     "metadata": {},
     "output_type": "execute_result"
    }
   ],
   "source": [
    "df.select(\"pickup_datetime\").head(3)"
   ]
  },
  {
   "cell_type": "code",
   "execution_count": 27,
   "id": "47ef5643-a8ca-4456-8140-227ad429fbd2",
   "metadata": {},
   "outputs": [
    {
     "name": "stdout",
     "output_type": "stream",
     "text": [
      "+-----------------+--------------------+-------------------+-------------------+------------+------------+-------+-----------+\n",
      "|hvfhs_license_num|dispatching_base_num|    pickup_datetime|   dropoff_datetime|PULocationID|DOLocationID|SR_Flag|pickup_date|\n",
      "+-----------------+--------------------+-------------------+-------------------+------------+------------+-------+-----------+\n",
      "|           HV0003|              B02765|2021-02-05 15:13:57|2021-02-05 15:30:25|          71|          89|   null| 2021-02-05|\n",
      "|           HV0003|              B02866|2021-02-04 11:40:47|2021-02-04 11:46:35|          20|         174|   null| 2021-02-04|\n",
      "|           HV0003|              B02872|2021-02-02 13:21:54|2021-02-02 13:36:47|          78|         247|   null| 2021-02-02|\n",
      "|           HV0003|              B02872|2021-02-03 22:05:16|2021-02-03 22:14:52|          75|         262|   null| 2021-02-03|\n",
      "|           HV0003|              B02888|2021-02-02 16:41:27|2021-02-02 17:06:27|         138|          88|   null| 2021-02-02|\n",
      "|           HV0003|              B02866|2021-02-06 03:00:04|2021-02-06 03:10:29|         198|          37|   null| 2021-02-06|\n",
      "|           HV0003|              B02682|2021-02-03 11:21:46|2021-02-03 11:34:23|         134|          53|   null| 2021-02-03|\n",
      "|           HV0005|              B02510|2021-02-01 03:18:05|2021-02-01 03:37:25|         155|         188|   null| 2021-02-01|\n",
      "|           HV0005|              B02510|2021-02-05 22:56:42|2021-02-05 23:04:06|         117|         117|   null| 2021-02-05|\n",
      "|           HV0003|              B02682|2021-02-04 07:26:16|2021-02-04 07:32:52|         195|          40|   null| 2021-02-04|\n",
      "|           HV0003|              B02864|2021-02-04 22:10:28|2021-02-04 22:36:21|         148|         108|   null| 2021-02-04|\n",
      "|           HV0003|              B02878|2021-02-06 05:25:49|2021-02-06 05:29:08|         205|          38|   null| 2021-02-06|\n",
      "|           HV0005|              B02510|2021-02-04 10:37:02|2021-02-04 11:13:15|           7|         159|   null| 2021-02-04|\n",
      "|           HV0003|              B02764|2021-02-03 09:56:13|2021-02-03 10:19:13|          37|          34|   null| 2021-02-03|\n",
      "|           HV0005|              B02510|2021-02-03 10:16:14|2021-02-03 10:47:30|         189|         123|   null| 2021-02-03|\n",
      "|           HV0005|              B02510|2021-02-02 12:53:14|2021-02-02 13:17:17|         224|         152|   null| 2021-02-02|\n",
      "|           HV0003|              B02764|2021-02-05 08:14:22|2021-02-05 08:50:30|         135|         166|   null| 2021-02-05|\n",
      "|           HV0005|              B02510|2021-02-06 12:17:22|2021-02-06 12:48:38|         142|          80|   null| 2021-02-06|\n",
      "|           HV0003|              B02869|2021-02-05 19:41:09|2021-02-05 19:58:18|         137|         179|   null| 2021-02-05|\n",
      "|           HV0003|              B02875|2021-02-03 10:29:05|2021-02-03 10:55:13|         140|         224|   null| 2021-02-03|\n",
      "+-----------------+--------------------+-------------------+-------------------+------------+------------+-------+-----------+\n",
      "only showing top 20 rows\n",
      "\n"
     ]
    }
   ],
   "source": [
    "from pyspark.sql.functions import to_date\n",
    "\n",
    "df.withColumn(\"pickup_date\", \n",
    "    to_date(\"pickup_datetime\",\"yyyy-MM-dd\")) \\\n",
    "    .show()"
   ]
  },
  {
   "cell_type": "code",
   "execution_count": 28,
   "id": "b214dc10-f7f5-4f40-9425-cbdb3097e57f",
   "metadata": {},
   "outputs": [
    {
     "name": "stdout",
     "output_type": "stream",
     "text": [
      "+-----------------+--------------------+-------------------+-------------------+------------+------------+-------+\n",
      "|hvfhs_license_num|dispatching_base_num|    pickup_datetime|   dropoff_datetime|PULocationID|DOLocationID|SR_Flag|\n",
      "+-----------------+--------------------+-------------------+-------------------+------------+------------+-------+\n",
      "|           HV0003|              B02765|2021-02-05 15:13:57|2021-02-05 15:30:25|          71|          89|   null|\n",
      "|           HV0003|              B02866|2021-02-04 11:40:47|2021-02-04 11:46:35|          20|         174|   null|\n",
      "|           HV0003|              B02872|2021-02-02 13:21:54|2021-02-02 13:36:47|          78|         247|   null|\n",
      "|           HV0003|              B02872|2021-02-03 22:05:16|2021-02-03 22:14:52|          75|         262|   null|\n",
      "|           HV0003|              B02888|2021-02-02 16:41:27|2021-02-02 17:06:27|         138|          88|   null|\n",
      "+-----------------+--------------------+-------------------+-------------------+------------+------------+-------+\n",
      "only showing top 5 rows\n",
      "\n"
     ]
    }
   ],
   "source": [
    "df.show(5)"
   ]
  },
  {
   "cell_type": "code",
   "execution_count": 34,
   "id": "dcb00e42-1fe6-419a-aeb9-3a4abfd119b6",
   "metadata": {},
   "outputs": [],
   "source": [
    "df_with_date = df.withColumn(\"pickup_date\", \n",
    "    to_date(\"pickup_datetime\",\"yyyy-MM-dd\"))"
   ]
  },
  {
   "cell_type": "code",
   "execution_count": 35,
   "id": "726424e6-7d6c-45eb-ae13-67fa7505d817",
   "metadata": {},
   "outputs": [
    {
     "name": "stdout",
     "output_type": "stream",
     "text": [
      "+-----------------+--------------------+-------------------+-------------------+------------+------------+-------+-----------+\n",
      "|hvfhs_license_num|dispatching_base_num|    pickup_datetime|   dropoff_datetime|PULocationID|DOLocationID|SR_Flag|pickup_date|\n",
      "+-----------------+--------------------+-------------------+-------------------+------------+------------+-------+-----------+\n",
      "|           HV0003|              B02765|2021-02-05 15:13:57|2021-02-05 15:30:25|          71|          89|   null| 2021-02-05|\n",
      "|           HV0003|              B02866|2021-02-04 11:40:47|2021-02-04 11:46:35|          20|         174|   null| 2021-02-04|\n",
      "|           HV0003|              B02872|2021-02-02 13:21:54|2021-02-02 13:36:47|          78|         247|   null| 2021-02-02|\n",
      "|           HV0003|              B02872|2021-02-03 22:05:16|2021-02-03 22:14:52|          75|         262|   null| 2021-02-03|\n",
      "+-----------------+--------------------+-------------------+-------------------+------------+------------+-------+-----------+\n",
      "only showing top 4 rows\n",
      "\n"
     ]
    }
   ],
   "source": [
    "df_with_date.show(4)"
   ]
  },
  {
   "cell_type": "code",
   "execution_count": 41,
   "id": "3a678f94-12a0-49e3-9fff-0426adf55dd5",
   "metadata": {},
   "outputs": [
    {
     "data": {
      "text/plain": [
       "367170"
      ]
     },
     "execution_count": 41,
     "metadata": {},
     "output_type": "execute_result"
    }
   ],
   "source": [
    "df_with_date.filter(df_with_date.pickup_date==\"2021-02-15\").count()"
   ]
  },
  {
   "cell_type": "markdown",
   "id": "fee316a9-79df-4e23-aa49-9e9156513176",
   "metadata": {},
   "source": [
    "### Question 4. Longest trip for each day\n",
    "Now calculate the duration for each trip.\n",
    "\n",
    "Trip starting on which day was the longest?"
   ]
  },
  {
   "cell_type": "code",
   "execution_count": 47,
   "id": "12a24906-a5c4-45e8-9403-2ce736408f4a",
   "metadata": {},
   "outputs": [],
   "source": [
    "from pyspark.sql.functions import to_timestamp\n",
    "\n",
    "df_with_trip_duration = df_with_date.withColumn(\"trip_duration\", to_timestamp(\"dropoff_datetime\").cast(\"long\") - to_timestamp(\"pickup_datetime\").cast(\"long\"))"
   ]
  },
  {
   "cell_type": "code",
   "execution_count": 48,
   "id": "73d9fb49-648a-488c-a3a9-e504d31996d6",
   "metadata": {},
   "outputs": [
    {
     "name": "stdout",
     "output_type": "stream",
     "text": [
      "+-----------------+--------------------+-------------------+-------------------+------------+------------+-------+-----------+-------------+\n",
      "|hvfhs_license_num|dispatching_base_num|    pickup_datetime|   dropoff_datetime|PULocationID|DOLocationID|SR_Flag|pickup_date|trip_duration|\n",
      "+-----------------+--------------------+-------------------+-------------------+------------+------------+-------+-----------+-------------+\n",
      "|           HV0003|              B02765|2021-02-05 15:13:57|2021-02-05 15:30:25|          71|          89|   null| 2021-02-05|          988|\n",
      "|           HV0003|              B02866|2021-02-04 11:40:47|2021-02-04 11:46:35|          20|         174|   null| 2021-02-04|          348|\n",
      "|           HV0003|              B02872|2021-02-02 13:21:54|2021-02-02 13:36:47|          78|         247|   null| 2021-02-02|          893|\n",
      "|           HV0003|              B02872|2021-02-03 22:05:16|2021-02-03 22:14:52|          75|         262|   null| 2021-02-03|          576|\n",
      "+-----------------+--------------------+-------------------+-------------------+------------+------------+-------+-----------+-------------+\n",
      "only showing top 4 rows\n",
      "\n"
     ]
    }
   ],
   "source": [
    "df_with_trip_duration.show(4)"
   ]
  },
  {
   "cell_type": "code",
   "execution_count": 63,
   "id": "19b1a587-4d83-4457-9c7d-aa9e669404d4",
   "metadata": {},
   "outputs": [
    {
     "name": "stderr",
     "output_type": "stream",
     "text": [
      "/usr/local/spark/python/pyspark/sql/dataframe.py:138: FutureWarning: Deprecated in 2.0, use createOrReplaceTempView instead.\n",
      "  warnings.warn(\n"
     ]
    }
   ],
   "source": [
    "df_with_trip_duration.registerTempTable('duration_table')"
   ]
  },
  {
   "cell_type": "code",
   "execution_count": 66,
   "id": "b021ae3d-843b-4a29-8602-725243b01738",
   "metadata": {},
   "outputs": [
    {
     "name": "stdout",
     "output_type": "stream",
     "text": [
      "+-----------------+--------------------+-------------------+-------------------+------------+------------+-------+-----------+-------------+\n",
      "|hvfhs_license_num|dispatching_base_num|    pickup_datetime|   dropoff_datetime|PULocationID|DOLocationID|SR_Flag|pickup_date|trip_duration|\n",
      "+-----------------+--------------------+-------------------+-------------------+------------+------------+-------+-----------+-------------+\n",
      "|           HV0005|              B02510|2021-02-11 13:40:44|2021-02-12 10:39:44|         247|          41|   null| 2021-02-11|        75540|\n",
      "|           HV0004|              B02800|2021-02-17 15:54:53|2021-02-18 07:48:34|         242|         254|   null| 2021-02-17|        57221|\n",
      "|           HV0004|              B02800|2021-02-20 12:08:15|2021-02-21 00:22:14|         188|          55|   null| 2021-02-20|        44039|\n",
      "|           HV0003|              B02864|2021-02-03 20:24:25|2021-02-04 07:41:58|          51|         147|   null| 2021-02-03|        40653|\n",
      "|           HV0003|              B02887|2021-02-19 23:17:44|2021-02-20 09:44:01|         210|         149|   null| 2021-02-19|        37577|\n",
      "+-----------------+--------------------+-------------------+-------------------+------------+------------+-------+-----------+-------------+\n",
      "only showing top 5 rows\n",
      "\n"
     ]
    }
   ],
   "source": [
    "spark.sql(\"\"\"\n",
    "SELECT \n",
    "    *\n",
    "FROM\n",
    "    duration_table\n",
    "ORDER BY\n",
    "    trip_duration desc\n",
    "\"\"\").show(5)"
   ]
  },
  {
   "cell_type": "markdown",
   "id": "415a07c6-24b4-4906-981d-4692e954c693",
   "metadata": {},
   "source": [
    "### Question 5. Most frequent dispatching_base_num"
   ]
  },
  {
   "cell_type": "code",
   "execution_count": 68,
   "id": "ac985e75-bf99-4ac5-81db-20b5dcb405ba",
   "metadata": {},
   "outputs": [
    {
     "name": "stdout",
     "output_type": "stream",
     "text": [
      "+--------------------+----------+\n",
      "|dispatching_base_num|total_cnts|\n",
      "+--------------------+----------+\n",
      "|              B02510|   3233664|\n",
      "|              B02764|    965568|\n",
      "|              B02872|    882689|\n",
      "|              B02875|    685390|\n",
      "|              B02765|    559768|\n",
      "+--------------------+----------+\n",
      "only showing top 5 rows\n",
      "\n"
     ]
    }
   ],
   "source": [
    "spark.sql(\"\"\"\n",
    "SELECT \n",
    "    dispatching_base_num, count(*) as total_cnts\n",
    "FROM\n",
    "    duration_table\n",
    "GROUP BY\n",
    "    dispatching_base_num\n",
    "ORDER BY\n",
    "    total_cnts desc\n",
    "\"\"\").show(5)"
   ]
  },
  {
   "cell_type": "markdown",
   "id": "f9291b21-90c9-45b7-83ae-77a2e7ef01ef",
   "metadata": {},
   "source": [
    "### Question 6. Most common locations pair"
   ]
  },
  {
   "cell_type": "code",
   "execution_count": 69,
   "id": "8cf976cc-99f3-4bad-ae58-0d930130b76f",
   "metadata": {},
   "outputs": [
    {
     "name": "stdout",
     "output_type": "stream",
     "text": [
      "+------------+------------+----------+\n",
      "|PULocationID|DOLocationID|total_cnts|\n",
      "+------------+------------+----------+\n",
      "|          76|          76|     45041|\n",
      "|          26|          26|     37329|\n",
      "|          39|          39|     28026|\n",
      "|          61|          61|     25976|\n",
      "|          14|          14|     17934|\n",
      "+------------+------------+----------+\n",
      "only showing top 5 rows\n",
      "\n"
     ]
    }
   ],
   "source": [
    "spark.sql(\"\"\"\n",
    "SELECT \n",
    "    PULocationID, DOLocationID, count(*) as total_cnts\n",
    "FROM\n",
    "    duration_table\n",
    "GROUP BY\n",
    "    PULocationID, DOLocationID\n",
    "ORDER BY\n",
    "    total_cnts desc\n",
    "\"\"\").show(5)"
   ]
  },
  {
   "cell_type": "code",
   "execution_count": 70,
   "id": "3a5820f1-1ac7-4761-b76b-9d9e05a03dbb",
   "metadata": {},
   "outputs": [
    {
     "name": "stdout",
     "output_type": "stream",
     "text": [
      "+----------+-------------+--------------------+------------+\n",
      "|LocationID|      Borough|                Zone|service_zone|\n",
      "+----------+-------------+--------------------+------------+\n",
      "|         1|          EWR|      Newark Airport|         EWR|\n",
      "|         2|       Queens|         Jamaica Bay|   Boro Zone|\n",
      "|         3|        Bronx|Allerton/Pelham G...|   Boro Zone|\n",
      "|         4|    Manhattan|       Alphabet City| Yellow Zone|\n",
      "|         5|Staten Island|       Arden Heights|   Boro Zone|\n",
      "|         6|Staten Island|Arrochar/Fort Wad...|   Boro Zone|\n",
      "|         7|       Queens|             Astoria|   Boro Zone|\n",
      "|         8|       Queens|        Astoria Park|   Boro Zone|\n",
      "|         9|       Queens|          Auburndale|   Boro Zone|\n",
      "|        10|       Queens|        Baisley Park|   Boro Zone|\n",
      "|        11|     Brooklyn|          Bath Beach|   Boro Zone|\n",
      "|        12|    Manhattan|        Battery Park| Yellow Zone|\n",
      "|        13|    Manhattan|   Battery Park City| Yellow Zone|\n",
      "|        14|     Brooklyn|           Bay Ridge|   Boro Zone|\n",
      "|        15|       Queens|Bay Terrace/Fort ...|   Boro Zone|\n",
      "|        16|       Queens|             Bayside|   Boro Zone|\n",
      "|        17|     Brooklyn|             Bedford|   Boro Zone|\n",
      "|        18|        Bronx|        Bedford Park|   Boro Zone|\n",
      "|        19|       Queens|           Bellerose|   Boro Zone|\n",
      "|        20|        Bronx|             Belmont|   Boro Zone|\n",
      "+----------+-------------+--------------------+------------+\n",
      "only showing top 20 rows\n",
      "\n"
     ]
    }
   ],
   "source": [
    "df_zones = spark.read \\\n",
    "    .option(\"header\", \"true\") \\\n",
    "    .csv('taxi+_zone_lookup.csv')\n",
    "\n",
    "df_zones.show()"
   ]
  },
  {
   "cell_type": "code",
   "execution_count": 75,
   "id": "69ee0a00-ff73-4bb1-8420-0ff429f01486",
   "metadata": {},
   "outputs": [
    {
     "name": "stdout",
     "output_type": "stream",
     "text": [
      "+----------+--------+-------------+------------+\n",
      "|LocationID| Borough|         Zone|service_zone|\n",
      "+----------+--------+-------------+------------+\n",
      "|        76|Brooklyn|East New York|   Boro Zone|\n",
      "+----------+--------+-------------+------------+\n",
      "\n"
     ]
    }
   ],
   "source": [
    "df_zones.filter(df_zones.LocationID==76).show()"
   ]
  },
  {
   "cell_type": "code",
   "execution_count": null,
   "id": "7bf94689-94ad-4175-b2d7-77b90ba09739",
   "metadata": {},
   "outputs": [],
   "source": []
  },
  {
   "cell_type": "code",
   "execution_count": null,
   "id": "4fcc5739-4c18-430d-b3a0-447b9b925e15",
   "metadata": {},
   "outputs": [],
   "source": []
  }
 ],
 "metadata": {
  "kernelspec": {
   "display_name": "Python 3 (ipykernel)",
   "language": "python",
   "name": "python3"
  },
  "language_info": {
   "codemirror_mode": {
    "name": "ipython",
    "version": 3
   },
   "file_extension": ".py",
   "mimetype": "text/x-python",
   "name": "python",
   "nbconvert_exporter": "python",
   "pygments_lexer": "ipython3",
   "version": "3.9.10"
  }
 },
 "nbformat": 4,
 "nbformat_minor": 5
}
