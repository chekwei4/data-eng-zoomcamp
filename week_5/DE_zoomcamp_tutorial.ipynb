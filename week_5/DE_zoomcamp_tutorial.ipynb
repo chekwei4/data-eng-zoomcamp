{
 "cells": [
  {
   "cell_type": "code",
   "execution_count": 11,
   "id": "828aeb2b-2e98-4d1f-82dc-f3a095ee80cb",
   "metadata": {},
   "outputs": [],
   "source": [
    "import pyspark\n",
    "from pyspark.sql import SparkSession"
   ]
  },
  {
   "cell_type": "code",
   "execution_count": 14,
   "id": "cfc5cc93-2b81-4004-b713-0b464d7d6936",
   "metadata": {},
   "outputs": [
    {
     "name": "stdout",
     "output_type": "stream",
     "text": [
      "3.2.1\n"
     ]
    }
   ],
   "source": [
    "print(pyspark.__version__)"
   ]
  },
  {
   "cell_type": "code",
   "execution_count": 16,
   "id": "6e3eed3c-2aca-4f63-bff0-d415e08156c8",
   "metadata": {},
   "outputs": [
    {
     "name": "stdout",
     "output_type": "stream",
     "text": [
      "+----------+-------------+--------------------+------------+\n",
      "|LocationID|      Borough|                Zone|service_zone|\n",
      "+----------+-------------+--------------------+------------+\n",
      "|         1|          EWR|      Newark Airport|         EWR|\n",
      "|         2|       Queens|         Jamaica Bay|   Boro Zone|\n",
      "|         3|        Bronx|Allerton/Pelham G...|   Boro Zone|\n",
      "|         4|    Manhattan|       Alphabet City| Yellow Zone|\n",
      "|         5|Staten Island|       Arden Heights|   Boro Zone|\n",
      "|         6|Staten Island|Arrochar/Fort Wad...|   Boro Zone|\n",
      "|         7|       Queens|             Astoria|   Boro Zone|\n",
      "|         8|       Queens|        Astoria Park|   Boro Zone|\n",
      "|         9|       Queens|          Auburndale|   Boro Zone|\n",
      "|        10|       Queens|        Baisley Park|   Boro Zone|\n",
      "|        11|     Brooklyn|          Bath Beach|   Boro Zone|\n",
      "|        12|    Manhattan|        Battery Park| Yellow Zone|\n",
      "|        13|    Manhattan|   Battery Park City| Yellow Zone|\n",
      "|        14|     Brooklyn|           Bay Ridge|   Boro Zone|\n",
      "|        15|       Queens|Bay Terrace/Fort ...|   Boro Zone|\n",
      "|        16|       Queens|             Bayside|   Boro Zone|\n",
      "|        17|     Brooklyn|             Bedford|   Boro Zone|\n",
      "|        18|        Bronx|        Bedford Park|   Boro Zone|\n",
      "|        19|       Queens|           Bellerose|   Boro Zone|\n",
      "|        20|        Bronx|             Belmont|   Boro Zone|\n",
      "+----------+-------------+--------------------+------------+\n",
      "only showing top 20 rows\n",
      "\n"
     ]
    }
   ],
   "source": [
    "import pyspark\n",
    "from pyspark.sql import SparkSession\n",
    "\n",
    "spark = SparkSession.builder \\\n",
    "    .master(\"local[*]\") \\\n",
    "    .appName('test') \\\n",
    "    .getOrCreate()\n",
    "\n",
    "df = spark.read \\\n",
    "    .option(\"header\", \"true\") \\\n",
    "    .csv('taxi+_zone_lookup.csv')\n",
    "\n",
    "df.show()"
   ]
  },
  {
   "cell_type": "code",
   "execution_count": 17,
   "id": "d9d48b69-c033-45d9-ba4d-247382cf34bc",
   "metadata": {},
   "outputs": [],
   "source": [
    "df.write.parquet('zones')"
   ]
  },
  {
   "cell_type": "code",
   "execution_count": 21,
   "id": "8e09c7b6-2e73-4aee-b05c-d9500eb1baac",
   "metadata": {},
   "outputs": [
    {
     "name": "stdout",
     "output_type": "stream",
     "text": [
      "total 28\n",
      "-rw-r--r-- 1 jovyan users 12322 Aug 17  2016 taxi+_zone_lookup.csv\n",
      "drwsrwsr-x 2 jovyan users  4096 Feb 28 05:15 \u001b[0m\u001b[01;34mwork\u001b[0m/\n",
      "drwxr-sr-x 2 jovyan users  4096 Mar  1 06:26 \u001b[01;34mzones\u001b[0m/\n",
      "-rw-r--r-- 1 jovyan users  3755 Mar  1 06:26 DE_zoomcamp.ipynb\n"
     ]
    }
   ],
   "source": [
    "ls -lrt"
   ]
  },
  {
   "cell_type": "code",
   "execution_count": 24,
   "id": "66281151-6b3b-4b4c-bcc0-fd6ed3f258f6",
   "metadata": {},
   "outputs": [
    {
     "name": "stdout",
     "output_type": "stream",
     "text": [
      "--2022-03-01 06:38:37--  https://nyc-tlc.s3.amazonaws.com/trip+data/fhvhv_tripdata_2021-01.csv\n",
      "Resolving nyc-tlc.s3.amazonaws.com (nyc-tlc.s3.amazonaws.com)... 52.217.95.105\n",
      "Connecting to nyc-tlc.s3.amazonaws.com (nyc-tlc.s3.amazonaws.com)|52.217.95.105|:443... connected.\n",
      "HTTP request sent, awaiting response... 200 OK\n",
      "Length: 752335705 (717M) [text/csv]\n",
      "Saving to: ‘fhvhv_tripdata_2021-01.csv’\n",
      "\n",
      "fhvhv_tripdata_2021 100%[===================>] 717.48M   961KB/s    in 6m 0s   \n",
      "\n",
      "2022-03-01 06:44:38 (2.00 MB/s) - ‘fhvhv_tripdata_2021-01.csv’ saved [752335705/752335705]\n",
      "\n"
     ]
    }
   ],
   "source": [
    "!wget https://nyc-tlc.s3.amazonaws.com/trip+data/fhvhv_tripdata_2021-01.csv"
   ]
  },
  {
   "cell_type": "code",
   "execution_count": 25,
   "id": "7f5956f6-707b-4310-af21-a59ae47a22b3",
   "metadata": {},
   "outputs": [],
   "source": [
    "df = spark.read \\\n",
    "    .option(\"header\", \"true\") \\\n",
    "    .csv('fhvhv_tripdata_2021-01.csv')"
   ]
  },
  {
   "cell_type": "code",
   "execution_count": 29,
   "id": "62977b01-90cf-4404-beaa-40d0fd3f3499",
   "metadata": {},
   "outputs": [
    {
     "data": {
      "text/plain": [
       "[Row(hvfhs_license_num='HV0003', dispatching_base_num='B02682', pickup_datetime='2021-01-01 00:33:44', dropoff_datetime='2021-01-01 00:49:07', PULocationID='230', DOLocationID='166', SR_Flag=None),\n",
       " Row(hvfhs_license_num='HV0003', dispatching_base_num='B02682', pickup_datetime='2021-01-01 00:55:19', dropoff_datetime='2021-01-01 01:18:21', PULocationID='152', DOLocationID='167', SR_Flag=None),\n",
       " Row(hvfhs_license_num='HV0003', dispatching_base_num='B02764', pickup_datetime='2021-01-01 00:23:56', dropoff_datetime='2021-01-01 00:38:05', PULocationID='233', DOLocationID='142', SR_Flag=None),\n",
       " Row(hvfhs_license_num='HV0003', dispatching_base_num='B02764', pickup_datetime='2021-01-01 00:42:51', dropoff_datetime='2021-01-01 00:45:50', PULocationID='142', DOLocationID='143', SR_Flag=None),\n",
       " Row(hvfhs_license_num='HV0003', dispatching_base_num='B02764', pickup_datetime='2021-01-01 00:48:14', dropoff_datetime='2021-01-01 01:08:42', PULocationID='143', DOLocationID='78', SR_Flag=None)]"
      ]
     },
     "execution_count": 29,
     "metadata": {},
     "output_type": "execute_result"
    }
   ],
   "source": [
    "df.head(5)"
   ]
  },
  {
   "cell_type": "code",
   "execution_count": 30,
   "id": "4d7186e5-01da-4474-8512-849938842547",
   "metadata": {},
   "outputs": [
    {
     "data": {
      "text/plain": [
       "StructType(List(StructField(hvfhs_license_num,StringType,true),StructField(dispatching_base_num,StringType,true),StructField(pickup_datetime,StringType,true),StructField(dropoff_datetime,StringType,true),StructField(PULocationID,StringType,true),StructField(DOLocationID,StringType,true),StructField(SR_Flag,StringType,true)))"
      ]
     },
     "execution_count": 30,
     "metadata": {},
     "output_type": "execute_result"
    }
   ],
   "source": [
    "df.schema"
   ]
  },
  {
   "cell_type": "code",
   "execution_count": 39,
   "id": "9ac6a41e-60a6-4015-8a64-4304e8801f47",
   "metadata": {},
   "outputs": [],
   "source": [
    "!head -n 101 fhvhv_tripdata_2021-01.csv > head.csv"
   ]
  },
  {
   "cell_type": "code",
   "execution_count": 40,
   "id": "e01c248e-dcb4-414a-bb37-9e6097a154fb",
   "metadata": {},
   "outputs": [
    {
     "name": "stdout",
     "output_type": "stream",
     "text": [
      "101 head.csv\n"
     ]
    }
   ],
   "source": [
    "!wc -l head.csv"
   ]
  },
  {
   "cell_type": "code",
   "execution_count": 41,
   "id": "e3bc918e-4fe2-47d8-bf0f-1ea0ec03257f",
   "metadata": {},
   "outputs": [],
   "source": [
    "import pandas as pd"
   ]
  },
  {
   "cell_type": "code",
   "execution_count": 42,
   "id": "85ab07ea-c0ee-4121-a4cd-457609cc0daa",
   "metadata": {},
   "outputs": [],
   "source": [
    "df_pandas = pd.read_csv(\"head.csv\")"
   ]
  },
  {
   "cell_type": "code",
   "execution_count": 43,
   "id": "b15e6de5-c091-4277-993e-d17c6b3cc52d",
   "metadata": {},
   "outputs": [
    {
     "data": {
      "text/plain": [
       "hvfhs_license_num        object\n",
       "dispatching_base_num     object\n",
       "pickup_datetime          object\n",
       "dropoff_datetime         object\n",
       "PULocationID              int64\n",
       "DOLocationID              int64\n",
       "SR_Flag                 float64\n",
       "dtype: object"
      ]
     },
     "execution_count": 43,
     "metadata": {},
     "output_type": "execute_result"
    }
   ],
   "source": [
    "df_pandas.dtypes"
   ]
  },
  {
   "cell_type": "code",
   "execution_count": 45,
   "id": "820cd7fb-5a55-4a37-974c-53706e68c954",
   "metadata": {},
   "outputs": [
    {
     "data": {
      "text/plain": [
       "StructType(List(StructField(hvfhs_license_num,StringType,true),StructField(dispatching_base_num,StringType,true),StructField(pickup_datetime,StringType,true),StructField(dropoff_datetime,StringType,true),StructField(PULocationID,LongType,true),StructField(DOLocationID,LongType,true),StructField(SR_Flag,DoubleType,true)))"
      ]
     },
     "execution_count": 45,
     "metadata": {},
     "output_type": "execute_result"
    }
   ],
   "source": [
    "spark.createDataFrame(df_pandas).schema"
   ]
  },
  {
   "cell_type": "code",
   "execution_count": 46,
   "id": "f3f8f844-2222-4bd1-b487-06754a52f2cf",
   "metadata": {},
   "outputs": [],
   "source": [
    "from pyspark.sql import types"
   ]
  },
  {
   "cell_type": "code",
   "execution_count": 47,
   "id": "721f62b5-09bc-4f6b-93ae-aabf61cf1316",
   "metadata": {},
   "outputs": [],
   "source": [
    "schema = types.StructType([\n",
    "    types.StructField('hvfhs_license_num',types.StringType(), True),\n",
    "    types.StructField('dispatching_base_num',types.StringType(), True),\n",
    "    types.StructField('pickup_datetime',types.TimestampType(), True),\n",
    "    types.StructField('dropoff_datetime',types.TimestampType(), True),\n",
    "    types.StructField('PULocationID',types.IntegerType(), True),\n",
    "    types.StructField('DOLocationID',types.IntegerType(), True),\n",
    "    types.StructField('SR_Flag',types.StringType(), True)\n",
    "])"
   ]
  },
  {
   "cell_type": "code",
   "execution_count": 48,
   "id": "5479b0c1-5455-4bba-9b81-57da7f1725a3",
   "metadata": {},
   "outputs": [],
   "source": [
    "df = spark.read \\\n",
    "    .option(\"header\", \"true\") \\\n",
    "    .schema(schema) \\\n",
    "    .csv('fhvhv_tripdata_2021-01.csv')"
   ]
  },
  {
   "cell_type": "code",
   "execution_count": 53,
   "id": "6fbff77b-e763-4664-9fa0-ae988a6dd845",
   "metadata": {},
   "outputs": [
    {
     "data": {
      "text/plain": [
       "[Row(hvfhs_license_num='HV0003', dispatching_base_num='B02682', pickup_datetime=datetime.datetime(2021, 1, 1, 0, 33, 44), dropoff_datetime=datetime.datetime(2021, 1, 1, 0, 49, 7), PULocationID=230, DOLocationID=166, SR_Flag=None),\n",
       " Row(hvfhs_license_num='HV0003', dispatching_base_num='B02682', pickup_datetime=datetime.datetime(2021, 1, 1, 0, 55, 19), dropoff_datetime=datetime.datetime(2021, 1, 1, 1, 18, 21), PULocationID=152, DOLocationID=167, SR_Flag=None),\n",
       " Row(hvfhs_license_num='HV0003', dispatching_base_num='B02764', pickup_datetime=datetime.datetime(2021, 1, 1, 0, 23, 56), dropoff_datetime=datetime.datetime(2021, 1, 1, 0, 38, 5), PULocationID=233, DOLocationID=142, SR_Flag=None)]"
      ]
     },
     "execution_count": 53,
     "metadata": {},
     "output_type": "execute_result"
    }
   ],
   "source": [
    "df.head(3)"
   ]
  },
  {
   "cell_type": "code",
   "execution_count": 55,
   "id": "4c47945f-2dc1-48ab-a845-c9eb5599e3bf",
   "metadata": {},
   "outputs": [],
   "source": [
    "df = df.repartition(24)"
   ]
  },
  {
   "cell_type": "code",
   "execution_count": 56,
   "id": "d00c47db-0b92-450a-aeaf-79ec14c3ed6e",
   "metadata": {},
   "outputs": [],
   "source": [
    "df.write.parquet(\"fhvhv/2021/01/\")"
   ]
  },
  {
   "cell_type": "markdown",
   "id": "8d633d84-798b-42bd-a671-b7aeb3820cfb",
   "metadata": {},
   "source": [
    "# read parquet files now"
   ]
  },
  {
   "cell_type": "code",
   "execution_count": 57,
   "id": "3e9872b1-16e2-449b-9049-7d4cbfab269f",
   "metadata": {},
   "outputs": [
    {
     "data": {
      "text/plain": [
       "'/home/jovyan'"
      ]
     },
     "execution_count": 57,
     "metadata": {},
     "output_type": "execute_result"
    }
   ],
   "source": [
    "pwd"
   ]
  },
  {
   "cell_type": "code",
   "execution_count": 58,
   "id": "856e1ddf-f43f-4fe9-9d7c-3ba6d9728062",
   "metadata": {},
   "outputs": [
    {
     "name": "stdout",
     "output_type": "stream",
     "text": [
      "total 1451388\n",
      "-rw-r--r-- 1 jovyan users     12322 Aug 17  2016 taxi+_zone_lookup.csv\n",
      "-rw-r--r-- 1 jovyan users 733822658 Oct 29 18:53 fhvhv_tripdata_2021-02.csv\n",
      "-rw-r--r-- 1 jovyan users 752335705 Oct 29 18:53 fhvhv_tripdata_2021-01.csv\n",
      "drwsrwsr-x 2 jovyan users      4096 Feb 28 05:15 \u001b[0m\u001b[01;34mwork\u001b[0m/\n",
      "drwxr-sr-x 2 jovyan users      4096 Mar  1 06:49 \u001b[01;34mzones\u001b[0m/\n",
      "-rw-r--r-- 1 jovyan users      6423 Mar  1 06:50 head.csv\n",
      "drwxr-sr-x 3 jovyan users      4096 Mar  1 07:02 \u001b[01;34mfhvhv\u001b[0m/\n",
      "-rw-r--r-- 1 jovyan users     12945 Mar  1 07:16 DE_zoomcamp.ipynb\n"
     ]
    }
   ],
   "source": [
    "ls -lrt"
   ]
  },
  {
   "cell_type": "code",
   "execution_count": 59,
   "id": "fc6dc78d-a631-46ab-9fa9-59ab362d95d8",
   "metadata": {},
   "outputs": [],
   "source": [
    "df = spark.read.parquet(\"fhvhv/2021/01/\")"
   ]
  },
  {
   "cell_type": "code",
   "execution_count": 62,
   "id": "a5896f11-21f2-429f-b5ca-9d4d3730910f",
   "metadata": {},
   "outputs": [
    {
     "name": "stdout",
     "output_type": "stream",
     "text": [
      "root\n",
      " |-- hvfhs_license_num: string (nullable = true)\n",
      " |-- dispatching_base_num: string (nullable = true)\n",
      " |-- pickup_datetime: timestamp (nullable = true)\n",
      " |-- dropoff_datetime: timestamp (nullable = true)\n",
      " |-- PULocationID: integer (nullable = true)\n",
      " |-- DOLocationID: integer (nullable = true)\n",
      " |-- SR_Flag: string (nullable = true)\n",
      "\n"
     ]
    }
   ],
   "source": [
    "df.printSchema()"
   ]
  },
  {
   "cell_type": "code",
   "execution_count": 65,
   "id": "a29316f4-084f-47b5-b76a-37ed1c0645c5",
   "metadata": {},
   "outputs": [
    {
     "name": "stdout",
     "output_type": "stream",
     "text": [
      "+-------------------+-------------------+------------+------------+\n",
      "|    pickup_datetime|   dropoff_datetime|PULocationID|DOLocationID|\n",
      "+-------------------+-------------------+------------+------------+\n",
      "|2021-01-05 22:14:07|2021-01-05 22:32:28|         189|         107|\n",
      "|2021-01-02 17:59:55|2021-01-02 18:10:39|          88|         137|\n",
      "|2021-01-02 23:57:54|2021-01-03 00:15:48|         238|         224|\n",
      "|2021-01-06 15:53:13|2021-01-06 16:07:07|         169|         208|\n",
      "|2021-01-07 07:35:24|2021-01-07 07:55:49|          75|          88|\n",
      "|2021-01-07 08:45:12|2021-01-07 08:51:17|         210|         210|\n",
      "|2021-01-02 15:44:26|2021-01-02 16:10:50|         243|          69|\n",
      "|2021-01-04 16:50:28|2021-01-04 16:57:43|         250|         213|\n",
      "|2021-01-03 10:30:34|2021-01-03 10:44:53|          87|          79|\n",
      "|2021-01-03 22:05:20|2021-01-03 22:27:55|          68|         181|\n",
      "|2021-01-04 08:01:02|2021-01-04 08:33:27|          95|         236|\n",
      "|2021-01-02 13:01:10|2021-01-02 13:08:11|         262|         236|\n",
      "|2021-01-06 17:12:27|2021-01-06 17:46:56|         237|          83|\n",
      "|2021-01-04 09:05:18|2021-01-04 09:27:50|         159|          75|\n",
      "|2021-01-06 16:46:47|2021-01-06 17:50:24|         109|         119|\n",
      "|2021-01-06 08:03:47|2021-01-06 08:17:43|         145|         229|\n",
      "|2021-01-04 06:45:42|2021-01-04 06:55:01|         250|         212|\n",
      "|2021-01-03 13:20:41|2021-01-03 13:31:11|         130|          28|\n",
      "|2021-01-03 17:30:33|2021-01-03 17:45:19|          81|          46|\n",
      "|2021-01-06 20:55:57|2021-01-06 21:02:01|         113|          79|\n",
      "+-------------------+-------------------+------------+------------+\n",
      "only showing top 20 rows\n",
      "\n"
     ]
    }
   ],
   "source": [
    "df.select(\"pickup_datetime\", \"dropoff_datetime\", \"PULocationID\", \"DOLocationID\") \\\n",
    "  .filter(df.hvfhs_license_num == \"HV0003\").show()"
   ]
  },
  {
   "cell_type": "code",
   "execution_count": null,
   "id": "5a5413ca-6844-4912-a45c-94f6ea2916c0",
   "metadata": {},
   "outputs": [],
   "source": []
  }
 ],
 "metadata": {
  "kernelspec": {
   "display_name": "Python 3 (ipykernel)",
   "language": "python",
   "name": "python3"
  },
  "language_info": {
   "codemirror_mode": {
    "name": "ipython",
    "version": 3
   },
   "file_extension": ".py",
   "mimetype": "text/x-python",
   "name": "python",
   "nbconvert_exporter": "python",
   "pygments_lexer": "ipython3",
   "version": "3.9.10"
  }
 },
 "nbformat": 4,
 "nbformat_minor": 5
}
